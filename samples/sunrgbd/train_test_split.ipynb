{
 "metadata": {
  "language_info": {
   "codemirror_mode": {
    "name": "ipython",
    "version": 3
   },
   "file_extension": ".py",
   "mimetype": "text/x-python",
   "name": "python",
   "nbconvert_exporter": "python",
   "pygments_lexer": "ipython3",
   "version": "3.7.3-final"
  },
  "orig_nbformat": 2,
  "kernelspec": {
   "name": "python3",
   "display_name": "Python 3.7.3 64-bit ('wpm': conda)",
   "metadata": {
    "interpreter": {
     "hash": "38ddb883077692988cbada2011538970c30c2b2cbc1fd4a57b3e8ba3850159f1"
    }
   }
  }
 },
 "nbformat": 4,
 "nbformat_minor": 2,
 "cells": [
  {
   "cell_type": "code",
   "execution_count": 15,
   "metadata": {},
   "outputs": [],
   "source": [
    "import json\n",
    "\n",
    "from sklearn.model_selection import train_test_split\n",
    "\n",
    "TRAIN_SIZE = 0.7\n",
    "VAL_SIZE = 0.1\n",
    "TEST_SIZE = 0.2"
   ]
  },
  {
   "cell_type": "code",
   "execution_count": 6,
   "metadata": {},
   "outputs": [],
   "source": [
    "annotations = json.load(open('via_regions_sunrgbd.json'))"
   ]
  },
  {
   "cell_type": "code",
   "execution_count": 12,
   "metadata": {
    "tags": []
   },
   "outputs": [],
   "source": [
    "ids = list()\n",
    "for a in list(annotations['labels'].keys()):\n",
    "    ids.append(a)\n"
   ]
  },
  {
   "cell_type": "code",
   "execution_count": 17,
   "metadata": {},
   "outputs": [],
   "source": [
    "train, val_test = train_test_split(ids, train_size=TRAIN_SIZE)\n",
    "val, test = train_test_split(val_test, train_size=VAL_SIZE / (VAL_SIZE + TEST_SIZE))"
   ]
  },
  {
   "cell_type": "code",
   "execution_count": 24,
   "metadata": {},
   "outputs": [
    {
     "output_type": "stream",
     "name": "stdout",
     "text": [
      "train\n",
      "train\n",
      "train\n",
      "train\n",
      "test\n",
      "train\n",
      "train\n",
      "val\n",
      "train\n",
      "test\n",
      "train\n",
      "train\n",
      "train\n",
      "test\n",
      "train\n",
      "test\n",
      "train\n",
      "train\n",
      "train\n",
      "train\n",
      "train\n",
      "test\n",
      "train\n",
      "test\n",
      "val\n",
      "test\n",
      "train\n",
      "train\n",
      "train\n",
      "train\n",
      "test\n",
      "train\n",
      "val\n",
      "test\n",
      "train\n",
      "test\n",
      "train\n",
      "val\n",
      "test\n",
      "train\n",
      "train\n",
      "test\n",
      "train\n",
      "val\n",
      "train\n",
      "train\n",
      "train\n",
      "train\n",
      "train\n",
      "train\n",
      "train\n",
      "train\n",
      "train\n",
      "train\n",
      "train\n",
      "train\n",
      "val\n",
      "train\n",
      "train\n",
      "val\n",
      "test\n",
      "train\n",
      "test\n",
      "train\n",
      "train\n",
      "test\n",
      "train\n",
      "train\n",
      "train\n",
      "train\n",
      "train\n",
      "train\n",
      "test\n",
      "train\n",
      "train\n",
      "train\n",
      "train\n",
      "train\n",
      "train\n",
      "train\n",
      "train\n",
      "val\n",
      "train\n",
      "test\n",
      "train\n",
      "train\n",
      "train\n",
      "test\n",
      "train\n",
      "train\n",
      "train\n",
      "train\n",
      "test\n",
      "test\n",
      "val\n",
      "train\n",
      "train\n",
      "train\n",
      "test\n",
      "train\n",
      "test\n"
     ]
    }
   ],
   "source": [
    "split = dict()\n",
    "for image_id in ids:\n",
    "    if image_id in val: \n",
    "        split[image_id] = 'val'\n",
    "    elif image_id in test:\n",
    "        split[image_id] = 'test'\n",
    "    else: \n",
    "        split[image_id] = 'train'\n",
    "\n",
    "    if int(image_id) % 100 == 0:\n",
    "        print(split[image_id])\n",
    "\n",
    "json.dump(split, open('train_test_split.json', 'w'))"
   ]
  },
  {
   "cell_type": "code",
   "execution_count": null,
   "metadata": {},
   "outputs": [],
   "source": []
  }
 ]
}